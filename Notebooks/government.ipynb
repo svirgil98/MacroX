{
 "cells": [
  {
   "cell_type": "code",
   "execution_count": 1,
   "metadata": {},
   "outputs": [],
   "source": [
    "import pandas as pd\n",
    "import os\n",
    "import glob"
   ]
  },
  {
   "cell_type": "code",
   "execution_count": 3,
   "metadata": {},
   "outputs": [],
   "source": [
    "data_path = '../data/raw/official_air_pollution_IN/'\n",
    "all_sites = []\n",
    "for loc in os.listdir(data_path):\n",
    "    loc_path = os.path.join(data_path, loc)\n",
    "    files = glob.glob(os.path.join(loc_path, '*.xlsx'))\n",
    "    data = []\n",
    "    for f in files:\n",
    "        name = os.path.basename(f)[:-4]\n",
    "        result = pd.read_excel(f, header=None, na_values=['None'], )\n",
    "        meta = result.iloc[:17]\n",
    "        values = result.iloc[17:]\n",
    "        values.columns = list(result.iloc[16])\n",
    "        values = values.rename(columns={'From Date': 'date'}).drop('To Date', axis=1)\n",
    "        values['date'] = pd.to_datetime(values['date'], dayfirst=True)\n",
    "        values = values.set_index('date', drop=True)\n",
    "        values = values.convert_dtypes()\n",
    "        data.append(values)\n",
    "\n",
    "    combined = pd.concat(data).groupby(level=0).mean()\n",
    "    # combined.to_csv('../data/testgitignored.csv')\n",
    "    combined['location'] = loc\n",
    "    combined = combined.set_index([combined.index, 'location'])\n",
    "    all_sites.append(combined)"
   ]
  },
  {
   "cell_type": "code",
   "execution_count": 11,
   "metadata": {},
   "outputs": [
    {
     "data": {
      "text/html": [
       "<div>\n",
       "<style scoped>\n",
       "    .dataframe tbody tr th:only-of-type {\n",
       "        vertical-align: middle;\n",
       "    }\n",
       "\n",
       "    .dataframe tbody tr th {\n",
       "        vertical-align: top;\n",
       "    }\n",
       "\n",
       "    .dataframe thead th {\n",
       "        text-align: right;\n",
       "    }\n",
       "</style>\n",
       "<table border=\"1\" class=\"dataframe\">\n",
       "  <thead>\n",
       "    <tr style=\"text-align: right;\">\n",
       "      <th></th>\n",
       "      <th></th>\n",
       "      <th>NO2_govt</th>\n",
       "      <th>SO2_govt</th>\n",
       "      <th>CO_govt</th>\n",
       "      <th>PM2.5_govt</th>\n",
       "      <th>NH3_govt</th>\n",
       "    </tr>\n",
       "    <tr>\n",
       "      <th>date</th>\n",
       "      <th>location</th>\n",
       "      <th></th>\n",
       "      <th></th>\n",
       "      <th></th>\n",
       "      <th></th>\n",
       "      <th></th>\n",
       "    </tr>\n",
       "  </thead>\n",
       "  <tbody>\n",
       "    <tr>\n",
       "      <th rowspan=\"5\" valign=\"top\">2018-01-01</th>\n",
       "      <th>Agartala</th>\n",
       "      <td>NaN</td>\n",
       "      <td>NaN</td>\n",
       "      <td>NaN</td>\n",
       "      <td>NaN</td>\n",
       "      <td>NaN</td>\n",
       "    </tr>\n",
       "    <tr>\n",
       "      <th>Agra</th>\n",
       "      <td>50.290000</td>\n",
       "      <td>9.970000</td>\n",
       "      <td>NaN</td>\n",
       "      <td>341.930000</td>\n",
       "      <td>NaN</td>\n",
       "    </tr>\n",
       "    <tr>\n",
       "      <th>Aizawl</th>\n",
       "      <td>NaN</td>\n",
       "      <td>NaN</td>\n",
       "      <td>NaN</td>\n",
       "      <td>NaN</td>\n",
       "      <td>NaN</td>\n",
       "    </tr>\n",
       "    <tr>\n",
       "      <th>Amritsar</th>\n",
       "      <td>30.430000</td>\n",
       "      <td>2.780000</td>\n",
       "      <td>NaN</td>\n",
       "      <td>NaN</td>\n",
       "      <td>NaN</td>\n",
       "    </tr>\n",
       "    <tr>\n",
       "      <th>Asansol</th>\n",
       "      <td>NaN</td>\n",
       "      <td>NaN</td>\n",
       "      <td>NaN</td>\n",
       "      <td>NaN</td>\n",
       "      <td>NaN</td>\n",
       "    </tr>\n",
       "    <tr>\n",
       "      <th>...</th>\n",
       "      <th>...</th>\n",
       "      <td>...</td>\n",
       "      <td>...</td>\n",
       "      <td>...</td>\n",
       "      <td>...</td>\n",
       "      <td>...</td>\n",
       "    </tr>\n",
       "    <tr>\n",
       "      <th rowspan=\"4\" valign=\"top\">2022-08-24</th>\n",
       "      <th>Ghaziabad</th>\n",
       "      <td>14.330000</td>\n",
       "      <td>15.820000</td>\n",
       "      <td>NaN</td>\n",
       "      <td>11.633333</td>\n",
       "      <td>NaN</td>\n",
       "    </tr>\n",
       "    <tr>\n",
       "      <th>Ludhiana</th>\n",
       "      <td>6.060000</td>\n",
       "      <td>8.600000</td>\n",
       "      <td>0.590000</td>\n",
       "      <td>38.490000</td>\n",
       "      <td>NaN</td>\n",
       "    </tr>\n",
       "    <tr>\n",
       "      <th>Mangalore</th>\n",
       "      <td>10.350000</td>\n",
       "      <td>6.030000</td>\n",
       "      <td>1.030000</td>\n",
       "      <td>NaN</td>\n",
       "      <td>NaN</td>\n",
       "    </tr>\n",
       "    <tr>\n",
       "      <th>Mumbai</th>\n",
       "      <td>10.104286</td>\n",
       "      <td>9.385714</td>\n",
       "      <td>0.658125</td>\n",
       "      <td>10.061250</td>\n",
       "      <td>NaN</td>\n",
       "    </tr>\n",
       "    <tr>\n",
       "      <th>2022-08-25</th>\n",
       "      <th>Chennai</th>\n",
       "      <td>16.090000</td>\n",
       "      <td>10.333750</td>\n",
       "      <td>NaN</td>\n",
       "      <td>20.497143</td>\n",
       "      <td>NaN</td>\n",
       "    </tr>\n",
       "  </tbody>\n",
       "</table>\n",
       "<p>91560 rows × 5 columns</p>\n",
       "</div>"
      ],
      "text/plain": [
       "                       NO2_govt   SO2_govt   CO_govt  PM2.5_govt  NH3_govt\n",
       "date       location                                                       \n",
       "2018-01-01 Agartala         NaN        NaN       NaN         NaN       NaN\n",
       "           Agra       50.290000   9.970000       NaN  341.930000       NaN\n",
       "           Aizawl           NaN        NaN       NaN         NaN       NaN\n",
       "           Amritsar   30.430000   2.780000       NaN         NaN       NaN\n",
       "           Asansol          NaN        NaN       NaN         NaN       NaN\n",
       "...                         ...        ...       ...         ...       ...\n",
       "2022-08-24 Ghaziabad  14.330000  15.820000       NaN   11.633333       NaN\n",
       "           Ludhiana    6.060000   8.600000  0.590000   38.490000       NaN\n",
       "           Mangalore  10.350000   6.030000  1.030000         NaN       NaN\n",
       "           Mumbai     10.104286   9.385714  0.658125   10.061250       NaN\n",
       "2022-08-25 Chennai    16.090000  10.333750       NaN   20.497143       NaN\n",
       "\n",
       "[91560 rows x 5 columns]"
      ]
     },
     "execution_count": 11,
     "metadata": {},
     "output_type": "execute_result"
    }
   ],
   "source": [
    "final = pd.concat(all_sites).sort_index()\n",
    "final.columns = [f + '_govt' for f in final.columns]\n",
    "final = final.astype('float64')\n",
    "final.to_csv('../data/cleaned/government.csv')\n",
    "final.to_pickle('../data/cleaned/government.pkl')\n",
    "final"
   ]
  },
  {
   "cell_type": "code",
   "execution_count": 12,
   "metadata": {},
   "outputs": [
    {
     "data": {
      "text/plain": [
       "NO2_govt      float64\n",
       "SO2_govt      float64\n",
       "CO_govt       float64\n",
       "PM2.5_govt    float64\n",
       "NH3_govt      float64\n",
       "dtype: object"
      ]
     },
     "execution_count": 12,
     "metadata": {},
     "output_type": "execute_result"
    }
   ],
   "source": [
    "final.dtypes"
   ]
  },
  {
   "cell_type": "code",
   "execution_count": 10,
   "metadata": {},
   "outputs": [
    {
     "data": {
      "text/plain": [
       "date        location \n",
       "2018-01-01  Agartala           NaN\n",
       "            Agra         50.290000\n",
       "            Aizawl             NaN\n",
       "            Amritsar     30.430000\n",
       "            Asansol            NaN\n",
       "                           ...    \n",
       "2022-08-24  Ghaziabad    14.330000\n",
       "            Ludhiana      6.060000\n",
       "            Mangalore    10.350000\n",
       "            Mumbai       10.104286\n",
       "2022-08-25  Chennai      16.090000\n",
       "Name: NO2_govt, Length: 91560, dtype: float64"
      ]
     },
     "execution_count": 10,
     "metadata": {},
     "output_type": "execute_result"
    }
   ],
   "source": [
    "final['NO2_govt'].astype('float64')"
   ]
  }
 ],
 "metadata": {
  "kernelspec": {
   "display_name": "Python 3.9.12 ('base')",
   "language": "python",
   "name": "python3"
  },
  "language_info": {
   "codemirror_mode": {
    "name": "ipython",
    "version": 3
   },
   "file_extension": ".py",
   "mimetype": "text/x-python",
   "name": "python",
   "nbconvert_exporter": "python",
   "pygments_lexer": "ipython3",
   "version": "3.9.12"
  },
  "orig_nbformat": 4,
  "vscode": {
   "interpreter": {
    "hash": "7ee9b5b10f8da55dcc2458498bd162ec1c318b55e5b7bd520f8e938ce3ef009d"
   }
  }
 },
 "nbformat": 4,
 "nbformat_minor": 2
}
